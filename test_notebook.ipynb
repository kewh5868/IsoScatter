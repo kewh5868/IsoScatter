{
 "cells": [
  {
   "cell_type": "code",
   "execution_count": null,
   "metadata": {},
   "outputs": [],
   "source": [
    "import numpy as np\n",
    "import glob\n",
    "import os\n",
    "import argparse\n",
    "import time\n",
    "import matplotlib.pyplot as plt\n",
    "from matplotlib.pyplot import subplots"
   ]
  },
  {
   "cell_type": "code",
   "execution_count": null,
   "metadata": {},
   "outputs": [],
   "source": [
    "from IsoScatter import xyz_simulation"
   ]
  },
  {
   "cell_type": "code",
   "execution_count": null,
   "metadata": {},
   "outputs": [],
   "source": [
    "input_filepath='./test_files/pt_sphere_25ang_radius.xyz'\n",
    "q_min=0.01\n",
    "q_max=1\n",
    "num_qs=100\n",
    "logspace_q=True\n",
    "vol_pct=0 #only for hull_method\n",
    "solvent_edens = 0 #only for hull method\n",
    "num_cpus=16\n",
    "block_size = 500\n",
    "hull_method = False"
   ]
  },
  {
   "cell_type": "code",
   "execution_count": null,
   "metadata": {},
   "outputs": [],
   "source": [
    "%%time\n",
    "if logspace_q:\n",
    "    q_min = np.log10(q_min)\n",
    "    q_max = np.log10(q_max)\n",
    "    qs = np.logspace(q_min, q_max, num_qs)\n",
    "else:\n",
    "    qs = np.linspace(q_min, q_max, num_qs)\n",
    "\n",
    "iq = xyz_simulation(input_filepath, qs, vol_pct, solvent_edens, num_cpus, block_size, hull_method=hull_method)"
   ]
  },
  {
   "cell_type": "code",
   "execution_count": null,
   "metadata": {},
   "outputs": [],
   "source": [
    "fig, ax1 = subplots(1,1)\n",
    "exp_data = np.loadtxt('./test_files/pt_sphere_25ang_0p01VF_solv0.txt')\n",
    "ax1.plot(exp_data[:,0], exp_data[:,1], label='experimental data')\n",
    "ax1.plot(qs, iq/1e8, label='simulated data')\n",
    "ax1.set_yscale('log')\n",
    "ax1.set_xscale('log')\n",
    "plt.legend()\n"
   ]
  },
  {
   "cell_type": "code",
   "execution_count": null,
   "metadata": {},
   "outputs": [],
   "source": []
  }
 ],
 "metadata": {
  "kernelspec": {
   "display_name": "pyFAI6",
   "language": "python",
   "name": "python3"
  },
  "language_info": {
   "codemirror_mode": {
    "name": "ipython",
    "version": 3
   },
   "file_extension": ".py",
   "mimetype": "text/x-python",
   "name": "python",
   "nbconvert_exporter": "python",
   "pygments_lexer": "ipython3",
   "version": "3.10.13"
  }
 },
 "nbformat": 4,
 "nbformat_minor": 2
}
